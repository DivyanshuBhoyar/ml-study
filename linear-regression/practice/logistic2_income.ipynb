{
 "cells": [
  {
   "cell_type": "code",
   "execution_count": null,
   "metadata": {},
   "outputs": [],
   "source": [
    "import pandas as pd\n",
    "import matplotlib.pyplot as plt\n",
    "import seaborn as sns\n",
    "import numpy as np\n",
    "from sklearn.model_selection import train_test_split"
   ]
  },
  {
   "cell_type": "code",
   "execution_count": null,
   "metadata": {},
   "outputs": [],
   "source": [
    "data = pd.read_csv('./data/adult.csv')\n",
    "df = data.copy()\n",
    "data"
   ]
  },
  {
   "cell_type": "code",
   "execution_count": null,
   "metadata": {},
   "outputs": [],
   "source": [
    "data.info()"
   ]
  },
  {
   "cell_type": "code",
   "execution_count": null,
   "metadata": {},
   "outputs": [],
   "source": [
    "df.describe()"
   ]
  },
  {
   "cell_type": "code",
   "execution_count": null,
   "metadata": {},
   "outputs": [],
   "source": [
    "\n",
    "unknown_val = '?'\n",
    "count_per_column = df.apply(lambda col: col.value_counts().get(unknown_val, 0))\n",
    "count_per_column\n",
    "\n",
    "df['workclass'] = df['workclass'].str.replace('?', 'Private', regex=False)\n",
    "df['occupation'] = df['occupation'].str.replace('?', 'Prof-speciality', regex=False)\n",
    "df['native.country'] = df['native.country'].str.replace('?', 'United-States', regex=False)\n"
   ]
  },
  {
   "cell_type": "code",
   "execution_count": null,
   "metadata": {},
   "outputs": [],
   "source": [
    "df.education= df.education.replace(['Preschool', '1st-4th', '5th-6th', '7th-8th', '9th','10th', '11th', '12th'], 'school')\n",
    "df.education = df.education.replace('HS-grad', 'high school')\n",
    "df.education = df.education.replace(['Assoc-voc', 'Assoc-acdm', 'Prof-school', 'Some-college'], 'higher')\n",
    "df.education = df.education.replace('Bachelors', 'undergrad')\n",
    "df.education = df.education.replace('Masters', 'grad')\n",
    "df.education = df.education.replace('Doctorate', 'doc')"
   ]
  },
  {
   "cell_type": "code",
   "execution_count": null,
   "metadata": {},
   "outputs": [],
   "source": [
    "#martial status\n",
    "df['marital.status']= df['marital.status'].replace(['Married-civ-spouse', 'Married-AF-spouse'], 'married')\n",
    "df['marital.status']= df['marital.status'].replace(['Never-married'], 'not-married')\n",
    "df['marital.status']= df['marital.status'].replace(['Divorced', 'Separated','Widowed',\n",
    "                                                   'Married-spouse-absent'], 'other')"
   ]
  },
  {
   "cell_type": "code",
   "execution_count": null,
   "metadata": {},
   "outputs": [],
   "source": [
    "df.hist(figsize=[12, 10])"
   ]
  },
  {
   "cell_type": "code",
   "execution_count": null,
   "metadata": {},
   "outputs": [],
   "source": [
    "numeric_df = df.select_dtypes(include=['int64', 'float64'])\n",
    "plt.figure(figsize=[12, 6])\n",
    "sns.heatmap(numeric_df.corr(), annot = True, cmap='YlGnBu')"
   ]
  },
  {
   "cell_type": "code",
   "execution_count": null,
   "metadata": {},
   "outputs": [],
   "source": [
    "numeric_cols = numeric_df.columns\n",
    "df[numeric_cols] = (df[numeric_cols] - df[numeric_cols].min()) / (df[numeric_cols].max() - df[numeric_cols].min())\n",
    "df.head()"
   ]
  },
  {
   "cell_type": "code",
   "execution_count": null,
   "metadata": {},
   "outputs": [],
   "source": [
    "df = pd.get_dummies(df, columns=['workclass', 'education', 'marital.status', 'occupation', 'relationship', 'race', 'sex', 'native.country'], dtype=int)"
   ]
  },
  {
   "cell_type": "code",
   "execution_count": null,
   "metadata": {},
   "outputs": [],
   "source": [
    "df['income'] = df['income'].apply(lambda inc : 1 if inc == \">50K\" else 0)\n",
    "df['income'].value_counts()"
   ]
  },
  {
   "cell_type": "code",
   "execution_count": 19,
   "metadata": {},
   "outputs": [
    {
     "data": {
      "text/plain": [
       "['workclass_Federal-gov',\n",
       " 'workclass_Local-gov',\n",
       " 'workclass_Never-worked',\n",
       " 'workclass_Private',\n",
       " 'workclass_Self-emp-inc',\n",
       " 'workclass_Self-emp-not-inc',\n",
       " 'workclass_State-gov',\n",
       " 'workclass_Without-pay',\n",
       " 'education_doc',\n",
       " 'education_grad',\n",
       " 'education_high school',\n",
       " 'education_higher',\n",
       " 'education_school',\n",
       " 'education_undergrad',\n",
       " 'marital.status_married',\n",
       " 'marital.status_not-married',\n",
       " 'marital.status_other',\n",
       " 'occupation_Adm-clerical',\n",
       " 'occupation_Armed-Forces',\n",
       " 'occupation_Craft-repair',\n",
       " 'occupation_Exec-managerial',\n",
       " 'occupation_Farming-fishing',\n",
       " 'occupation_Handlers-cleaners',\n",
       " 'occupation_Machine-op-inspct',\n",
       " 'occupation_Other-service',\n",
       " 'occupation_Priv-house-serv',\n",
       " 'occupation_Prof-speciality',\n",
       " 'occupation_Prof-specialty',\n",
       " 'occupation_Protective-serv',\n",
       " 'occupation_Sales',\n",
       " 'occupation_Tech-support',\n",
       " 'occupation_Transport-moving',\n",
       " 'relationship_Husband',\n",
       " 'relationship_Not-in-family',\n",
       " 'relationship_Other-relative',\n",
       " 'relationship_Own-child',\n",
       " 'relationship_Unmarried',\n",
       " 'relationship_Wife',\n",
       " 'race_Amer-Indian-Eskimo',\n",
       " 'race_Asian-Pac-Islander',\n",
       " 'race_Black',\n",
       " 'race_Other',\n",
       " 'race_White',\n",
       " 'sex_Female',\n",
       " 'sex_Male',\n",
       " 'native.country_Cambodia',\n",
       " 'native.country_Canada',\n",
       " 'native.country_China',\n",
       " 'native.country_Columbia',\n",
       " 'native.country_Cuba',\n",
       " 'native.country_Dominican-Republic',\n",
       " 'native.country_Ecuador',\n",
       " 'native.country_El-Salvador',\n",
       " 'native.country_England',\n",
       " 'native.country_France',\n",
       " 'native.country_Germany',\n",
       " 'native.country_Greece',\n",
       " 'native.country_Guatemala',\n",
       " 'native.country_Haiti',\n",
       " 'native.country_Holand-Netherlands',\n",
       " 'native.country_Honduras',\n",
       " 'native.country_Hong',\n",
       " 'native.country_Hungary',\n",
       " 'native.country_India',\n",
       " 'native.country_Iran',\n",
       " 'native.country_Ireland',\n",
       " 'native.country_Italy',\n",
       " 'native.country_Jamaica',\n",
       " 'native.country_Japan',\n",
       " 'native.country_Laos',\n",
       " 'native.country_Mexico',\n",
       " 'native.country_Nicaragua',\n",
       " 'native.country_Outlying-US(Guam-USVI-etc)',\n",
       " 'native.country_Peru',\n",
       " 'native.country_Philippines',\n",
       " 'native.country_Poland',\n",
       " 'native.country_Portugal',\n",
       " 'native.country_Puerto-Rico',\n",
       " 'native.country_Scotland',\n",
       " 'native.country_South',\n",
       " 'native.country_Taiwan',\n",
       " 'native.country_Thailand',\n",
       " 'native.country_Trinadad&Tobago',\n",
       " 'native.country_United-States',\n",
       " 'native.country_Vietnam',\n",
       " 'native.country_Yugoslavia']"
      ]
     },
     "execution_count": 19,
     "metadata": {},
     "output_type": "execute_result"
    }
   ],
   "source": [
    "cols = list(filter(lambda colname: \"_\" in colname, df.columns))\n",
    "cols"
   ]
  },
  {
   "cell_type": "code",
   "execution_count": null,
   "metadata": {},
   "outputs": [],
   "source": [
    "X = df.drop('income', axis=1)\n",
    "y = df['income']\n",
    "X_train, X_test, y_train, y_test = train_test_split(X, y, test_size=0.33, random_state=0)"
   ]
  },
  {
   "cell_type": "code",
   "execution_count": 37,
   "metadata": {},
   "outputs": [],
   "source": [
    "weis = np.zeros(X_train.shape[1])\n",
    "bias = 0\n",
    "alpha = 1.8\n",
    "\n",
    "def sigmoid(z):\n",
    "    return 1 / (1 + np.exp(-z))\n",
    "\n",
    "loss = np.zeros(10000)\n",
    "m = X_train.shape[0]\n",
    "\n",
    "for i in range(10000):  # number of epochs\n",
    "    linear_model = np.dot(X_train, weis) + bias\n",
    "    y_predicted = sigmoid(linear_model)\n",
    "\n",
    "    loss[i] = -np.mean(y_train * np.log(y_predicted) + (1 - y_train) * np.log(1 - y_predicted))\n",
    "    \n",
    "    dw = (1 / m) * np.dot(X_train.T, (y_predicted - y_train))\n",
    "    db = (1 / m) * np.sum(y_predicted - y_train)\n",
    "    \n",
    "    weis -= 0.01 * dw  # 0.01 is the learning rate\n",
    "    bias -= 0.01 * db\n"
   ]
  },
  {
   "cell_type": "markdown",
   "metadata": {},
   "source": [
    "#### Batch updates version"
   ]
  },
  {
   "cell_type": "code",
   "execution_count": 34,
   "metadata": {},
   "outputs": [
    {
     "ename": "KeyboardInterrupt",
     "evalue": "",
     "output_type": "error",
     "traceback": [
      "\u001b[0;31m---------------------------------------------------------------------------\u001b[0m",
      "\u001b[0;31mKeyboardInterrupt\u001b[0m                         Traceback (most recent call last)",
      "Cell \u001b[0;32mIn[34], line 19\u001b[0m\n\u001b[1;32m     15\u001b[0m y_predicted \u001b[39m=\u001b[39m sigmoid(linear_model)\n\u001b[1;32m     17\u001b[0m loss[i] \u001b[39m=\u001b[39m \u001b[39m-\u001b[39mnp\u001b[39m.\u001b[39mmean(batch_y \u001b[39m*\u001b[39m np\u001b[39m.\u001b[39mlog(y_predicted) \u001b[39m+\u001b[39m (\u001b[39m1\u001b[39m \u001b[39m-\u001b[39m batch_y) \u001b[39m*\u001b[39m np\u001b[39m.\u001b[39mlog(\u001b[39m1\u001b[39m \u001b[39m-\u001b[39m y_predicted))\n\u001b[0;32m---> 19\u001b[0m dw \u001b[39m=\u001b[39m (\u001b[39m1\u001b[39m \u001b[39m/\u001b[39m batch_size) \u001b[39m*\u001b[39m np\u001b[39m.\u001b[39;49mdot(batch_X\u001b[39m.\u001b[39;49mT, (y_predicted \u001b[39m-\u001b[39;49m batch_y))\n\u001b[1;32m     20\u001b[0m db \u001b[39m=\u001b[39m (\u001b[39m1\u001b[39m \u001b[39m/\u001b[39m batch_size) \u001b[39m*\u001b[39m np\u001b[39m.\u001b[39msum(y_predicted \u001b[39m-\u001b[39m batch_y)\n\u001b[1;32m     22\u001b[0m weis \u001b[39m-\u001b[39m\u001b[39m=\u001b[39m alpha \u001b[39m*\u001b[39m dw\n",
      "\u001b[0;31mKeyboardInterrupt\u001b[0m: "
     ]
    }
   ],
   "source": [
    "# batch_size = 108  # Define the size of each mini-batch\n",
    "# loss = np.zeros(10000)\n",
    "# m = X_train.shape[0]\n",
    "# weis = np.zeros(X_train.shape[1])\n",
    "# bias = 0\n",
    "# alpha = 0.8\n",
    "\n",
    "\n",
    "# for i in range(10000):  # number of epochs\n",
    "#     for j in range(0, m, batch_size):  # Loop through the dataset in batches\n",
    "#         batch_X = X_train[j:j+batch_size]\n",
    "#         batch_y = y_train[j:j+batch_size]\n",
    "\n",
    "#         linear_model = np.dot(batch_X, weis) + bias\n",
    "#         y_predicted = sigmoid(linear_model)\n",
    "\n",
    "#         loss[i] = -np.mean(batch_y * np.log(y_predicted) + (1 - batch_y) * np.log(1 - y_predicted))\n",
    "\n",
    "#         dw = (1 / batch_size) * np.dot(batch_X.T, (y_predicted - batch_y))\n",
    "#         db = (1 / batch_size) * np.sum(y_predicted - batch_y)\n",
    "\n",
    "#         weis -= alpha * dw\n",
    "#         bias -= alpha * db\n"
   ]
  },
  {
   "cell_type": "code",
   "execution_count": null,
   "metadata": {},
   "outputs": [],
   "source": [
    "y_pred = sigmoid(np.dot(X_test, weis) + bias)  >= 0.5\n",
    "y_pred"
   ]
  },
  {
   "cell_type": "code",
   "execution_count": 38,
   "metadata": {},
   "outputs": [
    {
     "data": {
      "image/png": "[encoded data removed]",
      "text/plain": [
       "<Figure size 640x480 with 1 Axes>"
      ]
     },
     "metadata": {},
     "output_type": "display_data"
    }
   ],
   "source": [
    "plt.plot(loss)\n",
    "plt.xlabel('Epoch')\n",
    "plt.ylabel('Error')\n",
    "plt.title('Error Trend Throughout Training')\n",
    "plt.show()"
   ]
  },
  {
   "cell_type": "code",
   "execution_count": 39,
   "metadata": {},
   "outputs": [
    {
     "name": "stdout",
     "output_type": "stream",
     "text": [
      "Accuracy: 0.8133258887027731\n"
     ]
    }
   ],
   "source": [
    "accuracy = np.mean(y_pred == y_test)\n",
    "print(f'Accuracy: {accuracy}')"
   ]
  },
  {
   "cell_type": "code",
   "execution_count": null,
   "metadata": {},
   "outputs": [],
   "source": []
  }
 ],
 "metadata": {
  "kernelspec": {
   "display_name": "pyenv",
   "language": "python",
   "name": "python3"
  },
  "language_info": {
   "codemirror_mode": {
    "name": "ipython",
    "version": 3
   },
   "file_extension": ".py",
   "mimetype": "text/x-python",
   "name": "python",
   "nbconvert_exporter": "python",
   "pygments_lexer": "ipython3",
   "version": "3.10.6"
  },
  "orig_nbformat": 4
 },
 "nbformat": 4,
 "nbformat_minor": 2
}
