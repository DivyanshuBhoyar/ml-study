{
 "cells": [
  {
   "cell_type": "code",
   "execution_count": 41,
   "metadata": {},
   "outputs": [],
   "source": [
    "import numpy as np\n",
    "import mnist_loader\n",
    "\n"
   ]
  },
  {
   "cell_type": "code",
   "execution_count": 42,
   "metadata": {},
   "outputs": [],
   "source": [
    "train_d, valid_d, test_d = mnist_loader.load_data()"
   ]
  },
  {
   "cell_type": "code",
   "execution_count": 43,
   "metadata": {},
   "outputs": [],
   "source": [
    "x_train, y_train = train_d\n",
    "x_train, y_train = mnist_loader.preprocess_data(x_train, y_train, 20000 )"
   ]
  },
  {
   "cell_type": "code",
   "execution_count": 50,
   "metadata": {},
   "outputs": [],
   "source": [
    "from activations import Tanh, Softmax\n",
    "from layer import Dense\n",
    "\n",
    "network = [\n",
    "    Dense(28 * 28, 40),\n",
    "    Tanh(),\n",
    "    Dense(40, 18),\n",
    "    Tanh(),\n",
    "    Dense(18, 10),\n",
    "    Softmax(10, 10)\n",
    "]"
   ]
  },
  {
   "cell_type": "code",
   "execution_count": 54,
   "metadata": {},
   "outputs": [
    {
     "name": "stdout",
     "output_type": "stream",
     "text": [
      "error for epoch  1 =  0.37638686419049827\n",
      "error for epoch  2 =  0.1320363241678568\n",
      "error for epoch  3 =  0.11661652170176115\n",
      "error for epoch  4 =  0.10961785721190004\n",
      "error for epoch  5 =  0.103494019857488\n",
      "error for epoch  6 =  0.10051875371553057\n",
      "error for epoch  7 =  0.09860271303459042\n",
      "error for epoch  8 =  0.09490102942638133\n",
      "error for epoch  9 =  0.08946406701121429\n",
      "error for epoch  10 =  0.08847752562848746\n",
      "error for epoch  11 =  0.08760160180198058\n",
      "error for epoch  12 =  0.08448484738781577\n",
      "error for epoch  13 =  0.083179399887067\n",
      "error for epoch  14 =  0.08153247986396021\n",
      "error for epoch  15 =  0.08012749642278347\n",
      "error for epoch  16 =  0.0788841468066007\n",
      "error for epoch  17 =  0.07886660166125908\n",
      "error for epoch  18 =  0.07922767203132172\n",
      "error for epoch  19 =  0.07612745146439476\n",
      "error for epoch  20 =  0.07564321404338475\n",
      "error for epoch  21 =  0.07487390723997797\n",
      "error for epoch  22 =  0.07503476521923304\n",
      "error for epoch  23 =  0.07138561270504198\n",
      "error for epoch  24 =  0.07098957115697037\n",
      "error for epoch  25 =  0.07085537903939357\n",
      "error for epoch  26 =  0.0726722465726269\n",
      "error for epoch  27 =  0.06902853537227191\n",
      "error for epoch  28 =  0.07001398103796083\n",
      "error for epoch  29 =  0.06965153776436542\n",
      "error for epoch  30 =  0.07060962119039683\n",
      "error for epoch  31 =  0.06883329256661601\n",
      "error for epoch  32 =  0.06732942555003031\n",
      "error for epoch  33 =  0.06694196993254443\n",
      "error for epoch  34 =  0.0666283188246204\n",
      "error for epoch  35 =  0.0659803847546684\n",
      "error for epoch  36 =  0.06572735096330075\n",
      "error for epoch  37 =  0.06679099642727876\n",
      "error for epoch  38 =  0.0648714431100782\n",
      "error for epoch  39 =  0.0657779012930163\n",
      "error for epoch  40 =  0.0636964062229286\n",
      "error for epoch  41 =  0.06543291976505622\n",
      "error for epoch  42 =  0.06406436608199759\n",
      "error for epoch  43 =  0.06477579891773383\n",
      "error for epoch  44 =  0.06291905872059218\n",
      "error for epoch  45 =  0.06505379293626119\n",
      "error for epoch  46 =  0.06337598670272322\n",
      "error for epoch  47 =  0.0634846786425721\n",
      "error for epoch  48 =  0.06327990723330824\n",
      "error for epoch  49 =  0.06260935897172004\n",
      "error for epoch  50 =  0.06247584352210512\n"
     ]
    }
   ],
   "source": [
    "from net import train\n",
    "from losses import mse, mse_prime, categorical_crossentropy, categorical_crossentropy_prime\n",
    "\n",
    "err_h = train(network=network, X_train=x_train, Y_train=y_train,alpha=0.15, epochs=50, logs=True, loss=mse, loss_grad=mse_prime )"
   ]
  },
  {
   "cell_type": "code",
   "execution_count": 55,
   "metadata": {},
   "outputs": [
    {
     "data": {
      "image/png": "[encoded data removed]",
      "text/plain": [
       "<Figure size 640x480 with 1 Axes>"
      ]
     },
     "metadata": {},
     "output_type": "display_data"
    }
   ],
   "source": [
    "import matplotlib.pyplot as plt\n",
    "\n",
    "plt.plot(err_h)\n",
    "plt.xlabel('Epoch')\n",
    "plt.ylabel('Error')\n",
    "plt.ylim(0, 1)\n",
    "plt.title('Error Trend')\n",
    "plt.show()"
   ]
  },
  {
   "cell_type": "code",
   "execution_count": 56,
   "metadata": {},
   "outputs": [],
   "source": [
    "x_test, y_test = test_d\n",
    "x_test, y_test = mnist_loader.preprocess_data(x_test, y_test, 20000 )"
   ]
  },
  {
   "cell_type": "code",
   "execution_count": 57,
   "metadata": {},
   "outputs": [
    {
     "name": "stdout",
     "output_type": "stream",
     "text": [
      "Network accuracy ☢️ 0.8116\n"
     ]
    }
   ],
   "source": [
    "from net import run_test, evaluate_classifn\n",
    "\n",
    "y_pred = run_test(network, x_test)\n",
    "evaluate_classifn(y_test, y_pred)"
   ]
  }
 ],
 "metadata": {
  "kernelspec": {
   "display_name": "pyenv",
   "language": "python",
   "name": "python3"
  },
  "language_info": {
   "codemirror_mode": {
    "name": "ipython",
    "version": 3
   },
   "file_extension": ".py",
   "mimetype": "text/x-python",
   "name": "python",
   "nbconvert_exporter": "python",
   "pygments_lexer": "ipython3",
   "version": "3.10.12"
  },
  "orig_nbformat": 4
 },
 "nbformat": 4,
 "nbformat_minor": 2
}
