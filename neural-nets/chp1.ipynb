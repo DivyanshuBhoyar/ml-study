{
 "cells": [
  {
   "cell_type": "code",
   "execution_count": 3,
   "metadata": {},
   "outputs": [],
   "source": [
    "import numpy as np\n",
    "import random\n"
   ]
  },
  {
   "cell_type": "code",
   "execution_count": 4,
   "metadata": {},
   "outputs": [],
   "source": [
    "\n",
    "#### Miscellaneous functions\n",
    "def sigmoid(z):\n",
    "    \"\"\"The sigmoid function.\"\"\"\n",
    "    return 1.0 / (1.0 + np.exp(-z))\n",
    "\n",
    "\n",
    "def sigmoid_prime(z):\n",
    "    \"\"\"Derivative of the sigmoid function.\"\"\"\n",
    "    return sigmoid(z) * (1 - sigmoid(z))\n"
   ]
  },
  {
   "cell_type": "code",
   "execution_count": 5,
   "metadata": {},
   "outputs": [],
   "source": [
    "class Network(object):\n",
    "\n",
    "    def __init__(self, sizes):\n",
    "        # Initialize a neural network with given layer sizes\n",
    "        \n",
    "        self.num_layers = len(sizes)   # Number of layers in the network\n",
    "        self.sizes = sizes             # List of layer sizes\n",
    "        self.biases = [np.random.randn(y, 1) for y in sizes[1:]]\n",
    "        # Initialize biases for all layers except the input layer\n",
    "        self.weights = [np.random.randn(y, x)\n",
    "                        for x, y in zip(sizes[:-1], sizes[1:])]\n",
    "        # Initialize weights for connections between layers\n",
    "\n",
    "\n",
    "    def feedforward(self, a):\n",
    "        # Perform feedforward propagation and return the output\n",
    "        \n",
    "        for b, w in zip(self.biases, self.weights):\n",
    "            a = sigmoid(np.dot(w, a) + b)  # Apply weights, biases, and activation function\n",
    "        return a\n",
    "\n",
    "\n",
    "    def SGD(self, training_data, epochs, mini_batch_size, eta,\n",
    "            test_data=None):\n",
    "        # Stochastic Gradient Descent for training the network\n",
    "        \n",
    "        if test_data:\n",
    "            n_test = len(test_data)  # Number of test examples\n",
    "        n = len(training_data)       # Number of training examples\n",
    "\n",
    "        for j in range(epochs):  # Loop over epochs\n",
    "            random.shuffle(training_data)  # Shuffle training data\n",
    "            mini_batches = [\n",
    "                training_data[k : k + mini_batch_size]\n",
    "                for k in range(0, n, mini_batch_size)]\n",
    "            # Create mini-batches for SGD\n",
    "            \n",
    "            for batch in mini_batches:  # Loop over mini-batches\n",
    "                self.update_mini_batch(batch, eta)  # Update weights and biases using backpropagation\n",
    "                \n",
    "            if test_data:\n",
    "                print(\"Epoch {0}: {1} / {2}\".format(\n",
    "                    j, self.evaluate(test_data), n_test))\n",
    "            else:\n",
    "                print(\"Epoch {0} complete\".format(j))\n",
    "\n",
    "\n",
    "    def update_mini_batch(self, mini_batch, eta):\n",
    "        # Update the network's weights and biases using gradient descent\n",
    "        \n",
    "        nabla_b = [np.zeros(b.shape) for b in self.biases]\n",
    "        nabla_w = [np.zeros(w.shape) for w in self.weights]\n",
    "        # Initialize gradient arrays\n",
    "        \n",
    "        for x, y in mini_batch:  # Loop over mini-batch examples\n",
    "            delta_nabla_b, delta_nabla_w = self.backprop(x, y)\n",
    "            # Calculate gradients using backpropagation\n",
    "            nabla_b = [nb + dnb for nb, dnb in zip(nabla_b, delta_nabla_b)]\n",
    "            nabla_w = [nw + dnw for nw, dnw in zip(nabla_w, delta_nabla_w)]\n",
    "        \n",
    "        self.weights = [w - (eta / len(mini_batch)) * nw\n",
    "                        for w, nw in zip(self.weights, nabla_w)]\n",
    "        self.biases = [b - (eta / len(mini_batch)) * nb\n",
    "                       for b, nb in zip(self.biases, nabla_b)]\n",
    "        # Update weights and biases using calculated gradients\n",
    "\n",
    "\n",
    "    def backprop(self, x, y):\n",
    "        # Calculate gradients for weights and biases using backpropagation\n",
    "        \n",
    "        nabla_b = [np.zeros(b.shape) for b in self.biases]\n",
    "        nabla_w = [np.zeros(w.shape) for w in self.weights]\n",
    "        # Initialize gradient arrays\n",
    "        \n",
    "        # Feedforward\n",
    "        activation = x\n",
    "        activations = [x]  # Store layer activations\n",
    "        zs = []  # Store z vectors\n",
    "        \n",
    "        for b, w in zip(self.biases, self.weights):\n",
    "            z = np.dot(w, activation) + b\n",
    "            zs.append(z)\n",
    "            activation = sigmoid(z)\n",
    "            activations.append(activation)\n",
    "        # Perform feedforward propagation to store activations and z vectors\n",
    "        \n",
    "        # Backward pass\n",
    "        delta = self.cost_derivative(activations[-1], y) * sigmoid_prime(zs[-1])\n",
    "        nabla_b[-1] = delta\n",
    "        nabla_w[-1] = np.dot(delta, activations[-2].transpose())\n",
    "        # Calculate gradients for output layer\n",
    "        \n",
    "        for l in range(2, self.num_layers):\n",
    "            z = zs[-l]\n",
    "            sp = sigmoid_prime(z)\n",
    "            delta = np.dot(self.weights[-l + 1].transpose(), delta) * sp\n",
    "            nabla_b[-l] = delta\n",
    "            nabla_w[-l] = np.dot(delta, activations[-l - 1].transpose())\n",
    "        # Loop over layers in reverse order, calculate gradients for each layer\n",
    "        \n",
    "        return (nabla_b, nabla_w)\n",
    "\n",
    "\n",
    "    def evaluate(self, test_data):\n",
    "        # Evaluate the network's performance on test data\n",
    "        \n",
    "        test_results = [(np.argmax(self.feedforward(x)), y)\n",
    "                        for (x, y) in test_data]\n",
    "        return sum(int(x == y) for (x, y) in test_results)\n",
    "\n",
    "\n",
    "    def cost_derivative(self, output_activations, y):\n",
    "        # Calculate the derivative of the cost function with respect to output activations\n",
    "        \n",
    "        return (output_activations - y)\n"
   ]
  },
  {
   "cell_type": "code",
   "execution_count": 6,
   "metadata": {},
   "outputs": [],
   "source": [
    "net = Network([2, 3, 1])"
   ]
  },
  {
   "cell_type": "code",
   "execution_count": 11,
   "metadata": {},
   "outputs": [
    {
     "data": {
      "text/plain": [
       "[array([[ 1.62120468,  0.29905807],\n",
       "        [ 0.50710409,  0.72349781],\n",
       "        [-0.1232402 ,  1.27555803]]),\n",
       " array([[-1.07752149,  0.9412284 ,  0.95035008]])]"
      ]
     },
     "execution_count": 11,
     "metadata": {},
     "output_type": "execute_result"
    }
   ],
   "source": [
    "net.weights"
   ]
  },
  {
   "cell_type": "code",
   "execution_count": 13,
   "metadata": {},
   "outputs": [],
   "source": [
    "import mnist_loader\n",
    "\n",
    "training_data, validation_data, test_data = mnist_loader.load_data_wrapper()"
   ]
  },
  {
   "cell_type": "code",
   "execution_count": 14,
   "metadata": {},
   "outputs": [
    {
     "name": "stdout",
     "output_type": "stream",
     "text": [
      "Epoch 0: 8246 / 10000\n",
      "Epoch 1: 9238 / 10000\n",
      "Epoch 2: 9254 / 10000\n",
      "Epoch 3: 9269 / 10000\n",
      "Epoch 4: 9332 / 10000\n",
      "Epoch 5: 9360 / 10000\n",
      "Epoch 6: 9349 / 10000\n",
      "Epoch 7: 9397 / 10000\n",
      "Epoch 8: 9441 / 10000\n",
      "Epoch 9: 9453 / 10000\n",
      "Epoch 10: 9409 / 10000\n",
      "Epoch 11: 9408 / 10000\n",
      "Epoch 12: 9452 / 10000\n",
      "Epoch 13: 9456 / 10000\n",
      "Epoch 14: 9452 / 10000\n",
      "Epoch 15: 9467 / 10000\n",
      "Epoch 16: 9465 / 10000\n",
      "Epoch 17: 9472 / 10000\n",
      "Epoch 18: 9466 / 10000\n",
      "Epoch 19: 9463 / 10000\n",
      "Epoch 20: 9472 / 10000\n",
      "Epoch 21: 9489 / 10000\n",
      "Epoch 22: 9446 / 10000\n",
      "Epoch 23: 9486 / 10000\n",
      "Epoch 24: 9483 / 10000\n",
      "Epoch 25: 9494 / 10000\n",
      "Epoch 26: 9487 / 10000\n",
      "Epoch 27: 9494 / 10000\n",
      "Epoch 28: 9496 / 10000\n",
      "Epoch 29: 9481 / 10000\n"
     ]
    }
   ],
   "source": [
    "net =Network([784, 30, 10])\n",
    "net.SGD(training_data, 30, 10, 3.0, test_data=test_data)"
   ]
  }
 ],
 "metadata": {
  "kernelspec": {
   "display_name": "pyenv",
   "language": "python",
   "name": "python3"
  },
  "language_info": {
   "codemirror_mode": {
    "name": "ipython",
    "version": 3
   },
   "file_extension": ".py",
   "mimetype": "text/x-python",
   "name": "python",
   "nbconvert_exporter": "python",
   "pygments_lexer": "ipython3",
   "version": "3.10.6"
  },
  "orig_nbformat": 4
 },
 "nbformat": 4,
 "nbformat_minor": 2
}
