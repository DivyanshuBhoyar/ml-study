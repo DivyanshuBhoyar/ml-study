{
  "cells": [
    {
      "cell_type": "code",
      "execution_count": null,
      "metadata": {},
      "outputs": [],
      "source": [
        "from torchvision import datasets, transforms\n",
        "from torch.utils.data import DataLoader"
      ]
    },
    {
      "cell_type": "code",
      "execution_count": null,
      "metadata": {},
      "outputs": [],
      "source": [
        "transformer = transforms.Compose(\n",
        "    [transforms.ToTensor(), transforms.Normalize((0.5,), (0.5,))]\n",
        ")"
      ]
    },
    {
      "cell_type": "code",
      "execution_count": null,
      "metadata": {},
      "outputs": [],
      "source": [
        "trainset = datasets.MNIST(\n",
        "    \"./data/MNIST_data/\", download=True, train=True, transform=transformer\n",
        ")\n",
        "trainloader = DataLoader(trainset, batch_size=64, shuffle=True, pin_memory=True)"
      ]
    },
    {
      "cell_type": "code",
      "execution_count": null,
      "metadata": {},
      "outputs": [],
      "source": [
        "from torch import nn, optim\n",
        "import torch.nn.functional as F\n",
        "\n",
        "\n",
        "class ClassifierNN(nn.Module):\n",
        "    def __init__(self):\n",
        "        super().__init__()\n",
        "        self.ly1 = nn.Linear(784, 128)\n",
        "        self.ly2 = nn.Linear(128, 64)\n",
        "        self.ly3 = nn.Linear(64, 10)\n",
        "\n",
        "    def forward(self, x):\n",
        "        x = x.view(x.shape[0], -1).cuda()  # Move input data to GPU\n",
        "\n",
        "        x = F.relu(self.ly1(x.cuda()))  # Perform linear transformation on GPU\n",
        "        x = F.relu(self.ly2(x.cuda()))  # Perform linear transformation on GPU\n",
        "\n",
        "        return F.log_softmax(\n",
        "            self.ly3(x.cuda()), dim=1\n",
        "        )  # Perform linear transformation on GPU\n",
        "\n",
        "\n",
        "EPOCHS = 70\n",
        "criterion = nn.NLLLoss()\n"
      ]
    },
    {
      "cell_type": "code",
      "execution_count": null,
      "metadata": {},
      "outputs": [],
      "source": [
        "def train(model, optimizer, log_title=\"\"):\n",
        "    j_history = []\n",
        "    for e in range(EPOCHS):\n",
        "        epoch_loss = 0\n",
        "        for imgs, labels in trainloader:\n",
        "            probab = model(imgs.cuda())  # Move input data to GPU\n",
        "            loss = criterion(probab, labels)\n",
        "            epoch_loss += loss.item()\n",
        "\n",
        "            optimizer.zero_grad()\n",
        "            loss.backward()\n",
        "            optimizer.step()\n",
        "\n",
        "        if log_title:\n",
        "            print(f\"{log_title} @ epoch {e+1} :: loss = {epoch_loss/len(trainloader)}\")\n",
        "        j_history.append(epoch_loss / len(trainloader))\n",
        "\n",
        "    return j_history\n",
        "\n",
        "\n",
        "# %% [markdown]\n",
        "# #### SGD"
      ]
    },
    {
      "cell_type": "code",
      "execution_count": null,
      "metadata": {},
      "outputs": [],
      "source": [
        "model = ClassifierNN().to(\"cuda\")  # Move model to GPU\n",
        "\n",
        "optimizer = optim.SGD(model.parameters(), lr=0.03)\n",
        "sgd_losses = train(model, optimizer, \"SGD\")\n",
        "\n",
        "# %% [markdown]\n",
        "# ##### Momentum"
      ]
    },
    {
      "cell_type": "code",
      "execution_count": null,
      "metadata": {},
      "outputs": [],
      "source": [
        "model = ClassifierNN().to(\"cuda\")  # Move model to GPU\n",
        "optimizer = optim.SGD(model.parameters(), lr=0.03, momentum=0.9)\n",
        "mtm_losses = train(model, optimizer, \"Momentum\")\n",
        "\n",
        "# %% [markdown]\n",
        "# ##### Nesterov"
      ]
    },
    {
      "cell_type": "code",
      "execution_count": null,
      "metadata": {},
      "outputs": [],
      "source": [
        "model = ClassifierNN().to(\"cuda\")  # Move model to GPU\n",
        "optimizer = optim.SGD(model.parameters(), lr=0.03, momentum=0.9, nesterov=True)\n",
        "nestv_losses = train(model, optimizer, \"Nesterov\")\n",
        "\n",
        "# %% [markdown]\n",
        "# ##### Adagrad"
      ]
    },
    {
      "cell_type": "code",
      "execution_count": null,
      "metadata": {},
      "outputs": [],
      "source": [
        "model = ClassifierNN().to(\"cuda\")  # Move model to GPU\n",
        "optimizer = optim.Adagrad(model.parameters(), lr=0.03, eps=1e-8)\n",
        "adgd_losses = train(model, optimizer, \"Adagrad\")\n",
        "\n",
        "# %% [markdown]\n",
        "# ##### RMSProp"
      ]
    },
    {
      "cell_type": "code",
      "execution_count": null,
      "metadata": {},
      "outputs": [],
      "source": [
        "model = ClassifierNN().to(\"cuda\")  # Move model to GPU\n",
        "optimizer = optim.RMSprop(model.parameters(), lr=0.03, momentum=0.9, eps=1e-8)\n",
        "rms_losses = train(model, optimizer, \"RMSProp\")\n",
        "\n",
        "# %% [markdown]\n",
        "# ##### Adam"
      ]
    },
    {
      "cell_type": "code",
      "execution_count": null,
      "metadata": {},
      "outputs": [],
      "source": [
        "model = ClassifierNN().to(\"cuda\")  # Move model to GPU\n",
        "optimizer = optim.Adam(model.parameters(), lr=0.03, betas=(0.9, 0.998))\n",
        "adam_losses = train(model, optimizer, \"Adam\")\n",
        "\n",
        "\n",
        "import matplotlib.pyplot as plt\n",
        "\n",
        "plt.figure(figsize=(10, 6))\n",
        "plt.plot(sgd_losses, label=\"SGD\", color=\"r\")\n",
        "plt.plot(mtm_losses, label=\"Momentum\", color=\"g\")\n",
        "plt.plot(nestv_losses, label=\"Nesterov\", color=\"b\")\n",
        "plt.plot(adgd_losses, label=\"Adagrad\", color=\"y\")\n",
        "plt.plot(rms_losses, label=\"RMSProp\", color=\"m\")\n",
        "plt.plot(adam_losses, label=\"Adam\", color=\"k\")\n",
        "\n",
        "plt.title(\"Avg loss trends\")\n",
        "plt.xlabel(\"Epoch\")\n",
        "plt.ylabel(\"Loss\")\n",
        "\n",
        "plt.legend()\n",
        "plt.show()\n"
      ]
    }
  ],
  "metadata": {
    "anaconda-cloud": {},
    "kernelspec": {
      "display_name": "Python 3",
      "language": "python",
      "name": "python3"
    },
    "language_info": {
      "codemirror_mode": {
        "name": "ipython",
        "version": 3
      },
      "file_extension": ".py",
      "mimetype": "text/x-python",
      "name": "python",
      "nbconvert_exporter": "python",
      "pygments_lexer": "ipython3",
      "version": "3.10.12"
    }
  },
  "nbformat": 4,
  "nbformat_minor": 4
}
