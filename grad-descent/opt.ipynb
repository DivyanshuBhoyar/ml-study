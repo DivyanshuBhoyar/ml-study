{
 "cells": [
  {
   "cell_type": "code",
   "execution_count": 1,
   "metadata": {},
   "outputs": [],
   "source": [
    "from torchvision import datasets, transforms\n",
    "from torch.utils.data import DataLoader"
   ]
  },
  {
   "cell_type": "code",
   "execution_count": 2,
   "metadata": {},
   "outputs": [],
   "source": [
    "transformer = transforms.Compose([transforms.ToTensor(), transforms.Normalize((0.5,), (0.5,))])"
   ]
  },
  {
   "cell_type": "code",
   "execution_count": 3,
   "metadata": {},
   "outputs": [],
   "source": [
    "trainset = datasets.MNIST('./data/MNIST_data/', download=True, train=True, transform=transformer)\n",
    "trainloader = DataLoader(trainset, batch_size=64, shuffle=True)"
   ]
  },
  {
   "cell_type": "code",
   "execution_count": 4,
   "metadata": {},
   "outputs": [],
   "source": [
    "from torch import nn, optim\n",
    "import torch.nn.functional as F\n",
    "\n",
    "class ClassifierNN(nn.Module):\n",
    "    def __init__(self):\n",
    "        super().__init__()\n",
    "        self.ly1 = nn.Linear(784, 128)\n",
    "        self.ly2 = nn.Linear(128,64)\n",
    "        self.ly3 = nn.Linear(64, 10)\n",
    "\n",
    "    \n",
    "    def forward(self, x):\n",
    "        x = x.view(x.shape[0], -1) #flatten\n",
    "\n",
    "        x = F.relu(self.ly1(x))\n",
    "        x = F.relu(self.ly2(x))\n",
    "\n",
    "        return F.log_softmax(self.ly3(x), dim=1)\n",
    "\n",
    "\n",
    "EPOCHS = 50\n",
    "criterion = nn.NLLLoss()"
   ]
  },
  {
   "cell_type": "code",
   "execution_count": 5,
   "metadata": {},
   "outputs": [],
   "source": [
    "def train(model, optimizer, log_title=\"\"):\n",
    "    j_history = []\n",
    "    for e in range(EPOCHS):\n",
    "        epoch_loss = 0\n",
    "        for imgs, labels in trainloader:\n",
    "            probab = model(imgs)\n",
    "            loss = criterion(probab, labels)\n",
    "            epoch_loss += loss.item()\n",
    "\n",
    "            optimizer.zero_grad()\n",
    "            loss.backward()\n",
    "            optimizer.step()\n",
    "        \n",
    "        \n",
    "        if log_title:\n",
    "            print(f'{log_title} @ epoch {e+1} :: loss = {epoch_loss/len(trainloader)}')\n",
    "        j_history.append(epoch_loss/len(trainloader))\n",
    "    \n",
    "    return j_history"
   ]
  },
  {
   "cell_type": "markdown",
   "metadata": {},
   "source": [
    "#### SGD\n"
   ]
  },
  {
   "cell_type": "code",
   "execution_count": 6,
   "metadata": {},
   "outputs": [
    {
     "name": "stdout",
     "output_type": "stream",
     "text": [
      "SGD @ epoch 1 :: loss = 0.6252051915790735\n",
      "SGD @ epoch 2 :: loss = 0.2902538518566313\n",
      "SGD @ epoch 3 :: loss = 0.22683053465286043\n",
      "SGD @ epoch 4 :: loss = 0.17971609743323916\n",
      "SGD @ epoch 5 :: loss = 0.14890878840979102\n",
      "SGD @ epoch 6 :: loss = 0.12703825688676668\n",
      "SGD @ epoch 7 :: loss = 0.11003507714944957\n",
      "SGD @ epoch 8 :: loss = 0.09725251837846027\n",
      "SGD @ epoch 9 :: loss = 0.08682787209860425\n",
      "SGD @ epoch 10 :: loss = 0.07886044968610634\n",
      "SGD @ epoch 11 :: loss = 0.07176401959791748\n",
      "SGD @ epoch 12 :: loss = 0.06517175439276549\n",
      "SGD @ epoch 13 :: loss = 0.05952039184465782\n",
      "SGD @ epoch 14 :: loss = 0.05515554262601188\n",
      "SGD @ epoch 15 :: loss = 0.05095060202710108\n",
      "SGD @ epoch 16 :: loss = 0.04690583073211385\n",
      "SGD @ epoch 17 :: loss = 0.04358518864862176\n",
      "SGD @ epoch 18 :: loss = 0.04070544712280712\n",
      "SGD @ epoch 19 :: loss = 0.036936313602705995\n",
      "SGD @ epoch 20 :: loss = 0.034794758386494935\n",
      "SGD @ epoch 21 :: loss = 0.03189713213352491\n",
      "SGD @ epoch 22 :: loss = 0.02988377450429189\n",
      "SGD @ epoch 23 :: loss = 0.02796910898047569\n",
      "SGD @ epoch 24 :: loss = 0.025273419156206896\n",
      "SGD @ epoch 25 :: loss = 0.023917750946605015\n",
      "SGD @ epoch 26 :: loss = 0.02242951481018527\n",
      "SGD @ epoch 27 :: loss = 0.02056565941558398\n",
      "SGD @ epoch 28 :: loss = 0.01834495445130828\n",
      "SGD @ epoch 29 :: loss = 0.01724086626457534\n",
      "SGD @ epoch 30 :: loss = 0.01592659437079489\n",
      "SGD @ epoch 31 :: loss = 0.01450884091869634\n",
      "SGD @ epoch 32 :: loss = 0.01347900533091539\n",
      "SGD @ epoch 33 :: loss = 0.01278231382195124\n",
      "SGD @ epoch 34 :: loss = 0.011204324953134176\n",
      "SGD @ epoch 35 :: loss = 0.010244392066245039\n",
      "SGD @ epoch 36 :: loss = 0.009886941817199523\n",
      "SGD @ epoch 37 :: loss = 0.008514115417916412\n",
      "SGD @ epoch 38 :: loss = 0.008221107233042167\n",
      "SGD @ epoch 39 :: loss = 0.007602463662338905\n",
      "SGD @ epoch 40 :: loss = 0.00663279371944025\n",
      "SGD @ epoch 41 :: loss = 0.006248632597082085\n",
      "SGD @ epoch 42 :: loss = 0.005712705493359434\n",
      "SGD @ epoch 43 :: loss = 0.005048490837894019\n",
      "SGD @ epoch 44 :: loss = 0.004594764134760744\n",
      "SGD @ epoch 45 :: loss = 0.0042923185432928975\n",
      "SGD @ epoch 46 :: loss = 0.0038866249999321345\n",
      "SGD @ epoch 47 :: loss = 0.003627490486219542\n",
      "SGD @ epoch 48 :: loss = 0.003189949196114737\n",
      "SGD @ epoch 49 :: loss = 0.003013361433963614\n",
      "SGD @ epoch 50 :: loss = 0.002867157976062856\n"
     ]
    }
   ],
   "source": [
    "model = ClassifierNN()\n",
    "\n",
    "optimizer = optim.SGD(model.parameters(), lr=0.03)\n",
    "sgd_losses = train(model, optimizer, \"SGD\")\n",
    "\n"
   ]
  },
  {
   "cell_type": "markdown",
   "metadata": {},
   "source": [
    "##### Momentum\n"
   ]
  },
  {
   "cell_type": "code",
   "execution_count": 7,
   "metadata": {},
   "outputs": [
    {
     "name": "stdout",
     "output_type": "stream",
     "text": [
      "Momentum @ epoch 1 :: loss = 0.3566063681105052\n",
      "Momentum @ epoch 2 :: loss = 0.17110812313743493\n",
      "Momentum @ epoch 3 :: loss = 0.1310744053090432\n",
      "Momentum @ epoch 4 :: loss = 0.10811191138380499\n",
      "Momentum @ epoch 5 :: loss = 0.09305690458741413\n",
      "Momentum @ epoch 6 :: loss = 0.08424898414988753\n",
      "Momentum @ epoch 7 :: loss = 0.07448510079508595\n",
      "Momentum @ epoch 8 :: loss = 0.06960611380619317\n",
      "Momentum @ epoch 9 :: loss = 0.06222304939569137\n",
      "Momentum @ epoch 10 :: loss = 0.059087808704068726\n",
      "Momentum @ epoch 11 :: loss = 0.05711952260471255\n",
      "Momentum @ epoch 12 :: loss = 0.05338002543827928\n",
      "Momentum @ epoch 13 :: loss = 0.04491534288335931\n",
      "Momentum @ epoch 14 :: loss = 0.047588531224612846\n",
      "Momentum @ epoch 15 :: loss = 0.050776683197064236\n",
      "Momentum @ epoch 16 :: loss = 0.045203924046480964\n",
      "Momentum @ epoch 17 :: loss = 0.03529606841238652\n",
      "Momentum @ epoch 18 :: loss = 0.036170624376039205\n",
      "Momentum @ epoch 19 :: loss = 0.0395653325890625\n",
      "Momentum @ epoch 20 :: loss = 0.044212682726738076\n",
      "Momentum @ epoch 21 :: loss = 0.040197568722328034\n",
      "Momentum @ epoch 22 :: loss = 0.038405460399568055\n",
      "Momentum @ epoch 23 :: loss = 0.03699131782786838\n",
      "Momentum @ epoch 24 :: loss = 0.03777214861851916\n",
      "Momentum @ epoch 25 :: loss = 0.03486935570263687\n",
      "Momentum @ epoch 26 :: loss = 0.033035506467423016\n",
      "Momentum @ epoch 27 :: loss = 0.03602328416768527\n",
      "Momentum @ epoch 28 :: loss = 0.03335139256748542\n",
      "Momentum @ epoch 29 :: loss = 0.030277010350528533\n",
      "Momentum @ epoch 30 :: loss = 0.03124875459703764\n",
      "Momentum @ epoch 31 :: loss = 0.030529275054195674\n",
      "Momentum @ epoch 32 :: loss = 0.031724487513245525\n",
      "Momentum @ epoch 33 :: loss = 0.03047757782491053\n",
      "Momentum @ epoch 34 :: loss = 0.02541666614152835\n",
      "Momentum @ epoch 35 :: loss = 0.03498853558617903\n",
      "Momentum @ epoch 36 :: loss = 0.02860131405428893\n",
      "Momentum @ epoch 37 :: loss = 0.02832911423559435\n",
      "Momentum @ epoch 38 :: loss = 0.03251189237261027\n",
      "Momentum @ epoch 39 :: loss = 0.03578787308836544\n",
      "Momentum @ epoch 40 :: loss = 0.023878263345877886\n",
      "Momentum @ epoch 41 :: loss = 0.017907124091775074\n",
      "Momentum @ epoch 42 :: loss = 0.022596968644483573\n",
      "Momentum @ epoch 43 :: loss = 0.024746228415618462\n",
      "Momentum @ epoch 44 :: loss = 0.03690113842005763\n",
      "Momentum @ epoch 45 :: loss = 0.027041313211947336\n",
      "Momentum @ epoch 46 :: loss = 0.022744033777042743\n",
      "Momentum @ epoch 47 :: loss = 0.022373830322553974\n",
      "Momentum @ epoch 48 :: loss = 0.02590230871553711\n",
      "Momentum @ epoch 49 :: loss = 0.02936024241343553\n",
      "Momentum @ epoch 50 :: loss = 0.024250482425811373\n"
     ]
    }
   ],
   "source": [
    "model = ClassifierNN()\n",
    "optimizer = optim.SGD(model.parameters(), lr=0.03, momentum=0.9)\n",
    "mtm_losses = train(model, optimizer, \"Momentum\")\n"
   ]
  },
  {
   "cell_type": "markdown",
   "metadata": {},
   "source": [
    "##### Nesterov"
   ]
  },
  {
   "cell_type": "code",
   "execution_count": 8,
   "metadata": {},
   "outputs": [
    {
     "name": "stdout",
     "output_type": "stream",
     "text": [
      "Nesterov @ epoch 1 :: loss = 0.32086016399773964\n",
      "Nesterov @ epoch 2 :: loss = 0.15487894102104946\n",
      "Nesterov @ epoch 3 :: loss = 0.12045512967921698\n",
      "Nesterov @ epoch 4 :: loss = 0.10335701928664642\n",
      "Nesterov @ epoch 5 :: loss = 0.09052358066334502\n",
      "Nesterov @ epoch 6 :: loss = 0.07916811859554876\n",
      "Nesterov @ epoch 7 :: loss = 0.07341048414910784\n",
      "Nesterov @ epoch 8 :: loss = 0.0679600815767043\n",
      "Nesterov @ epoch 9 :: loss = 0.06274374418633569\n",
      "Nesterov @ epoch 10 :: loss = 0.05731607450724347\n",
      "Nesterov @ epoch 11 :: loss = 0.05690794844168679\n",
      "Nesterov @ epoch 12 :: loss = 0.05130839932140639\n",
      "Nesterov @ epoch 13 :: loss = 0.04726724942963295\n",
      "Nesterov @ epoch 14 :: loss = 0.04694602405131141\n",
      "Nesterov @ epoch 15 :: loss = 0.04570836787857835\n",
      "Nesterov @ epoch 16 :: loss = 0.04259797919518078\n",
      "Nesterov @ epoch 17 :: loss = 0.03987711335227118\n",
      "Nesterov @ epoch 18 :: loss = 0.03827979591008042\n",
      "Nesterov @ epoch 19 :: loss = 0.0362774686720808\n",
      "Nesterov @ epoch 20 :: loss = 0.03970340682490384\n",
      "Nesterov @ epoch 21 :: loss = 0.03620075826550638\n",
      "Nesterov @ epoch 22 :: loss = 0.03214550437328137\n",
      "Nesterov @ epoch 23 :: loss = 0.03280049134050028\n",
      "Nesterov @ epoch 24 :: loss = 0.039647704409449064\n",
      "Nesterov @ epoch 25 :: loss = 0.03493667135536718\n",
      "Nesterov @ epoch 26 :: loss = 0.034805613290861376\n",
      "Nesterov @ epoch 27 :: loss = 0.031684468693134835\n",
      "Nesterov @ epoch 28 :: loss = 0.031027252899437793\n",
      "Nesterov @ epoch 29 :: loss = 0.03700260322484552\n",
      "Nesterov @ epoch 30 :: loss = 0.038910899028669885\n",
      "Nesterov @ epoch 31 :: loss = 0.0330117691090404\n",
      "Nesterov @ epoch 32 :: loss = 0.029176752233838078\n",
      "Nesterov @ epoch 33 :: loss = 0.02917790754649369\n",
      "Nesterov @ epoch 34 :: loss = 0.02957361277471784\n",
      "Nesterov @ epoch 35 :: loss = 0.025539449458437086\n",
      "Nesterov @ epoch 36 :: loss = 0.027379425693902025\n",
      "Nesterov @ epoch 37 :: loss = 0.025017210142392735\n",
      "Nesterov @ epoch 38 :: loss = 0.04025573091211785\n",
      "Nesterov @ epoch 39 :: loss = 0.03877952107437408\n",
      "Nesterov @ epoch 40 :: loss = 0.03867073202335921\n",
      "Nesterov @ epoch 41 :: loss = 0.03096415015274608\n",
      "Nesterov @ epoch 42 :: loss = 0.02897752160258367\n",
      "Nesterov @ epoch 43 :: loss = 0.0336222404863532\n",
      "Nesterov @ epoch 44 :: loss = 0.03081217590828977\n",
      "Nesterov @ epoch 45 :: loss = 0.024574244541012303\n",
      "Nesterov @ epoch 46 :: loss = 0.03228549287725993\n",
      "Nesterov @ epoch 47 :: loss = 0.02245229477888339\n",
      "Nesterov @ epoch 48 :: loss = 0.04315522039324661\n",
      "Nesterov @ epoch 49 :: loss = 0.023612594707387514\n",
      "Nesterov @ epoch 50 :: loss = 0.035966532268420316\n"
     ]
    }
   ],
   "source": [
    "model = ClassifierNN()\n",
    "optimizer = optim.SGD(model.parameters(), lr=0.03, momentum=0.9, nesterov=True)\n",
    "nestv_losses = train(model, optimizer, \"Nesterov\")"
   ]
  },
  {
   "cell_type": "markdown",
   "metadata": {},
   "source": [
    "##### Adagrad"
   ]
  },
  {
   "cell_type": "code",
   "execution_count": 9,
   "metadata": {},
   "outputs": [
    {
     "name": "stdout",
     "output_type": "stream",
     "text": [
      "Adagrad @ epoch 1 :: loss = 0.7043312887933209\n",
      "Adagrad @ epoch 2 :: loss = 0.21172012219916403\n",
      "Adagrad @ epoch 3 :: loss = 0.17375904197361805\n",
      "Adagrad @ epoch 4 :: loss = 0.15113030991522963\n",
      "Adagrad @ epoch 5 :: loss = 0.1378107955942411\n",
      "Adagrad @ epoch 6 :: loss = 0.12685291916886562\n",
      "Adagrad @ epoch 7 :: loss = 0.11818225428299196\n",
      "Adagrad @ epoch 8 :: loss = 0.11186481860758209\n",
      "Adagrad @ epoch 9 :: loss = 0.10564410633274487\n",
      "Adagrad @ epoch 10 :: loss = 0.09953256733397813\n",
      "Adagrad @ epoch 11 :: loss = 0.09613652927562721\n",
      "Adagrad @ epoch 12 :: loss = 0.0911477742724613\n",
      "Adagrad @ epoch 13 :: loss = 0.08872009578820214\n",
      "Adagrad @ epoch 14 :: loss = 0.08441492965442937\n",
      "Adagrad @ epoch 15 :: loss = 0.08210029592191471\n",
      "Adagrad @ epoch 16 :: loss = 0.07937884795343451\n",
      "Adagrad @ epoch 17 :: loss = 0.07535688163809923\n",
      "Adagrad @ epoch 18 :: loss = 0.0737745753069446\n",
      "Adagrad @ epoch 19 :: loss = 0.07182166714227196\n",
      "Adagrad @ epoch 20 :: loss = 0.07010862236591314\n",
      "Adagrad @ epoch 21 :: loss = 0.06737344650112823\n",
      "Adagrad @ epoch 22 :: loss = 0.06618865613819662\n",
      "Adagrad @ epoch 23 :: loss = 0.0639285867897742\n",
      "Adagrad @ epoch 24 :: loss = 0.061706450539700655\n",
      "Adagrad @ epoch 25 :: loss = 0.060803425737094685\n",
      "Adagrad @ epoch 26 :: loss = 0.05926897286076043\n",
      "Adagrad @ epoch 27 :: loss = 0.05723458071520278\n",
      "Adagrad @ epoch 28 :: loss = 0.05609733578902898\n",
      "Adagrad @ epoch 29 :: loss = 0.05451860963163385\n",
      "Adagrad @ epoch 30 :: loss = 0.052958768316488\n",
      "Adagrad @ epoch 31 :: loss = 0.05192103289139233\n",
      "Adagrad @ epoch 32 :: loss = 0.050687169778530106\n",
      "Adagrad @ epoch 33 :: loss = 0.049165099617222874\n",
      "Adagrad @ epoch 34 :: loss = 0.047760338889239334\n",
      "Adagrad @ epoch 35 :: loss = 0.04700939892307182\n",
      "Adagrad @ epoch 36 :: loss = 0.04549479307912127\n",
      "Adagrad @ epoch 37 :: loss = 0.04433043801542451\n",
      "Adagrad @ epoch 38 :: loss = 0.04324699965043009\n",
      "Adagrad @ epoch 39 :: loss = 0.04281763239529854\n",
      "Adagrad @ epoch 40 :: loss = 0.04188252115775563\n",
      "Adagrad @ epoch 41 :: loss = 0.040744633892047674\n",
      "Adagrad @ epoch 42 :: loss = 0.03967767041452082\n",
      "Adagrad @ epoch 43 :: loss = 0.0387806024600708\n",
      "Adagrad @ epoch 44 :: loss = 0.03776125812279765\n",
      "Adagrad @ epoch 45 :: loss = 0.037271832901937786\n",
      "Adagrad @ epoch 46 :: loss = 0.03583851155302704\n",
      "Adagrad @ epoch 47 :: loss = 0.0356693673111411\n",
      "Adagrad @ epoch 48 :: loss = 0.03421428517964326\n",
      "Adagrad @ epoch 49 :: loss = 0.03322361210312224\n",
      "Adagrad @ epoch 50 :: loss = 0.032563210202583064\n"
     ]
    }
   ],
   "source": [
    "model = ClassifierNN()\n",
    "optimizer = optim.Adagrad(model.parameters(), lr=0.08, eps=1e-8 )\n",
    "adgd_losses = train(model, optimizer, \"Adagrad\")"
   ]
  },
  {
   "cell_type": "markdown",
   "metadata": {},
   "source": [
    "##### RMSProp"
   ]
  },
  {
   "cell_type": "code",
   "execution_count": 16,
   "metadata": {},
   "outputs": [
    {
     "name": "stdout",
     "output_type": "stream",
     "text": [
      "RMSProp @ epoch 1 :: loss = 89.55450601516756\n",
      "RMSProp @ epoch 2 :: loss = 2.356811829467318\n",
      "RMSProp @ epoch 3 :: loss = 2.3252818437019136\n",
      "RMSProp @ epoch 4 :: loss = 2.3262290415733355\n",
      "RMSProp @ epoch 5 :: loss = 2.326170561410217\n",
      "RMSProp @ epoch 6 :: loss = 2.327378912775247\n",
      "RMSProp @ epoch 7 :: loss = 2.323472761141974\n",
      "RMSProp @ epoch 8 :: loss = 2.325790216673666\n",
      "RMSProp @ epoch 9 :: loss = 2.325621619661734\n",
      "RMSProp @ epoch 10 :: loss = 2.326797647262687\n",
      "RMSProp @ epoch 11 :: loss = 2.325077059934897\n",
      "RMSProp @ epoch 12 :: loss = 2.3250479116114473\n",
      "RMSProp @ epoch 13 :: loss = 2.3261171825913225\n",
      "RMSProp @ epoch 14 :: loss = 2.3259360897007273\n",
      "RMSProp @ epoch 15 :: loss = 2.3253560864340774\n",
      "RMSProp @ epoch 16 :: loss = 2.3255643168492104\n",
      "RMSProp @ epoch 17 :: loss = 2.3244357312411896\n",
      "RMSProp @ epoch 18 :: loss = 2.3255037132865075\n",
      "RMSProp @ epoch 19 :: loss = 2.324855174082937\n",
      "RMSProp @ epoch 20 :: loss = 2.3277147085681906\n",
      "RMSProp @ epoch 21 :: loss = 2.324287259248274\n",
      "RMSProp @ epoch 22 :: loss = 2.326806551103653\n",
      "RMSProp @ epoch 23 :: loss = 2.3262343500722955\n",
      "RMSProp @ epoch 24 :: loss = 2.3245682657908784\n",
      "RMSProp @ epoch 25 :: loss = 2.326147586552065\n",
      "RMSProp @ epoch 26 :: loss = 2.3265971962068637\n",
      "RMSProp @ epoch 27 :: loss = 2.324967503801846\n",
      "RMSProp @ epoch 28 :: loss = 2.326445458540276\n",
      "RMSProp @ epoch 29 :: loss = 2.326568895819853\n",
      "RMSProp @ epoch 30 :: loss = 2.3240513219508028\n",
      "RMSProp @ epoch 31 :: loss = 2.3243280814400613\n",
      "RMSProp @ epoch 32 :: loss = 2.325271757935156\n",
      "RMSProp @ epoch 33 :: loss = 2.3254851466302933\n",
      "RMSProp @ epoch 34 :: loss = 2.3261605280040425\n",
      "RMSProp @ epoch 35 :: loss = 2.325541019693875\n",
      "RMSProp @ epoch 36 :: loss = 2.326719981775101\n",
      "RMSProp @ epoch 37 :: loss = 2.3251901903132133\n",
      "RMSProp @ epoch 38 :: loss = 2.3253810792081135\n",
      "RMSProp @ epoch 39 :: loss = 2.3251623212655725\n",
      "RMSProp @ epoch 40 :: loss = 2.327289715758773\n",
      "RMSProp @ epoch 41 :: loss = 2.32617500799297\n",
      "RMSProp @ epoch 42 :: loss = 2.3259651266943924\n",
      "RMSProp @ epoch 43 :: loss = 2.327388988883256\n",
      "RMSProp @ epoch 44 :: loss = 2.32509329196995\n",
      "RMSProp @ epoch 45 :: loss = 2.3249964342951013\n",
      "RMSProp @ epoch 46 :: loss = 2.325589498731373\n",
      "RMSProp @ epoch 47 :: loss = 2.3282267348344394\n",
      "RMSProp @ epoch 48 :: loss = 2.3251689931731234\n",
      "RMSProp @ epoch 49 :: loss = 2.3254042134356143\n",
      "RMSProp @ epoch 50 :: loss = 2.324146295153002\n"
     ]
    }
   ],
   "source": [
    "model = ClassifierNN()\n",
    "optimizer = optim.RMSprop(model.parameters(), lr=0.03, momentum=0.9, eps=1e-8 )\n",
    "rms_losses = train(model, optimizer, \"RMSProp\")"
   ]
  },
  {
   "cell_type": "markdown",
   "metadata": {},
   "source": [
    "##### Adam"
   ]
  },
  {
   "cell_type": "code",
   "execution_count": 11,
   "metadata": {},
   "outputs": [
    {
     "name": "stdout",
     "output_type": "stream",
     "text": [
      "Adam @ epoch 1 :: loss = 0.3409087832437268\n",
      "Adam @ epoch 2 :: loss = 0.17055935119646096\n",
      "Adam @ epoch 3 :: loss = 0.13918218605005855\n",
      "Adam @ epoch 4 :: loss = 0.12531532711937213\n",
      "Adam @ epoch 5 :: loss = 0.1084209682329544\n",
      "Adam @ epoch 6 :: loss = 0.10293287590720943\n",
      "Adam @ epoch 7 :: loss = 0.09899758407846093\n",
      "Adam @ epoch 8 :: loss = 0.0908322724073615\n",
      "Adam @ epoch 9 :: loss = 0.08970646541079146\n",
      "Adam @ epoch 10 :: loss = 0.08089351539350133\n",
      "Adam @ epoch 11 :: loss = 0.08081484730055095\n",
      "Adam @ epoch 12 :: loss = 0.07749564217822776\n",
      "Adam @ epoch 13 :: loss = 0.07478277447085127\n",
      "Adam @ epoch 14 :: loss = 0.07451071832358201\n",
      "Adam @ epoch 15 :: loss = 0.07091378852072706\n",
      "Adam @ epoch 16 :: loss = 0.06323618457821045\n",
      "Adam @ epoch 17 :: loss = 0.06714707311108904\n",
      "Adam @ epoch 18 :: loss = 0.06716830339693555\n",
      "Adam @ epoch 19 :: loss = 0.06676209548639116\n",
      "Adam @ epoch 20 :: loss = 0.05781360326570271\n",
      "Adam @ epoch 21 :: loss = 0.059370392525316756\n",
      "Adam @ epoch 22 :: loss = 0.06237673826126217\n",
      "Adam @ epoch 23 :: loss = 0.05570653600313304\n",
      "Adam @ epoch 24 :: loss = 0.054762606898301355\n",
      "Adam @ epoch 25 :: loss = 0.05577089802309836\n",
      "Adam @ epoch 26 :: loss = 0.05376943502688906\n",
      "Adam @ epoch 27 :: loss = 0.0545594950722271\n",
      "Adam @ epoch 28 :: loss = 0.05321320847134266\n",
      "Adam @ epoch 29 :: loss = 0.04894178158999892\n",
      "Adam @ epoch 30 :: loss = 0.05106900492368124\n",
      "Adam @ epoch 31 :: loss = 0.04729457850212452\n",
      "Adam @ epoch 32 :: loss = 0.051709560185262\n",
      "Adam @ epoch 33 :: loss = 0.04916617737462672\n",
      "Adam @ epoch 34 :: loss = 0.05300941898162712\n",
      "Adam @ epoch 35 :: loss = 0.0475562643486032\n",
      "Adam @ epoch 36 :: loss = 0.050154320778969516\n",
      "Adam @ epoch 37 :: loss = 0.04565369991369366\n",
      "Adam @ epoch 38 :: loss = 0.048690330716021454\n",
      "Adam @ epoch 39 :: loss = 0.0447110572966069\n",
      "Adam @ epoch 40 :: loss = 0.05129530960369756\n",
      "Adam @ epoch 41 :: loss = 0.043275556393242806\n",
      "Adam @ epoch 42 :: loss = 0.042244563493515096\n",
      "Adam @ epoch 43 :: loss = 0.047502447392388056\n",
      "Adam @ epoch 44 :: loss = 0.04172643919549779\n",
      "Adam @ epoch 45 :: loss = 0.04272329117392239\n",
      "Adam @ epoch 46 :: loss = 0.04190856066925349\n",
      "Adam @ epoch 47 :: loss = 0.044740341248358774\n",
      "Adam @ epoch 48 :: loss = 0.0449021322005785\n",
      "Adam @ epoch 49 :: loss = 0.047024896726880414\n",
      "Adam @ epoch 50 :: loss = 0.043575794275434884\n"
     ]
    }
   ],
   "source": [
    "model = ClassifierNN()\n",
    "optimizer = optim.Adam(model.parameters(), lr=0.003, betas=(0.9, 0.999))\n",
    "adam_losses = train(model, optimizer, \"Adam\")\n"
   ]
  },
  {
   "cell_type": "code",
   "execution_count": 18,
   "metadata": {},
   "outputs": [
    {
     "data": {
      "image/png": "[encoded data removed]",
      "text/plain": [
       "<Figure size 1000x600 with 1 Axes>"
      ]
     },
     "metadata": {},
     "output_type": "display_data"
    }
   ],
   "source": [
    "import matplotlib.pyplot as plt\n",
    "\n",
    "plt.figure(figsize=(10,6))\n",
    "plt.plot(sgd_losses, label='SGD', color='r')\n",
    "plt.plot(mtm_losses, label='Momentum', color='g')\n",
    "plt.plot(nestv_losses, label='Nesterov', color='b')\n",
    "plt.plot(adgd_losses, label='Adagrad', color='y')\n",
    "# plt.plot(rms_losses, label='RMSProp', color='m')\n",
    "plt.plot(adam_losses, label='Adam', color='k')\n",
    "\n",
    "plt.title('Loss trends')\n",
    "plt.xlabel('Epoch')\n",
    "plt.ylabel('Loss')\n",
    "\n",
    "plt.legend()\n",
    "plt.show()"
   ]
  }
 ],
 "metadata": {
  "kernelspec": {
   "display_name": "pyenv",
   "language": "python",
   "name": "python3"
  },
  "language_info": {
   "codemirror_mode": {
    "name": "ipython",
    "version": 3
   },
   "file_extension": ".py",
   "mimetype": "text/x-python",
   "name": "python",
   "nbconvert_exporter": "python",
   "pygments_lexer": "ipython3",
   "version": "3.10.12"
  },
  "orig_nbformat": 4
 },
 "nbformat": 4,
 "nbformat_minor": 2
}
