{
 "cells": [
  {
   "cell_type": "code",
   "execution_count": 13,
   "metadata": {},
   "outputs": [
    {
     "name": "stderr",
     "output_type": "stream",
     "text": [
      "Read 2M words\n",
      "Number of words:  23379\n",
      "Number of labels: 0\n",
      "Progress: 100.0% words/sec/thread:   42213 lr:  0.000000 avg.loss:  2.040239 ETA:   0h 0m 0s\n"
     ]
    }
   ],
   "source": [
    "import fasttext\n",
    "\n",
    "model = fasttext.train_unsupervised('./data/wikitext-2-raw/wiki.train.raw')"
   ]
  },
  {
   "cell_type": "code",
   "execution_count": 14,
   "metadata": {},
   "outputs": [],
   "source": [
    "model.save_model('./data/wikitxt_ftxt.bin')"
   ]
  },
  {
   "cell_type": "code",
   "execution_count": 15,
   "metadata": {},
   "outputs": [
    {
     "data": {
      "text/plain": [
       "array([-0.01219068,  0.22349472,  0.31802937, -0.05934668,  0.4222954 ,\n",
       "        0.25783166, -0.3602745 , -0.17828971,  0.00607825, -0.5430972 ,\n",
       "        0.5438415 ,  0.00949075, -0.5002846 ,  0.22774425,  0.22289118,\n",
       "       -0.17572643, -0.00250392, -0.14989662,  0.01620277,  0.02515481,\n",
       "       -0.08248268,  0.4434349 , -0.01602629,  0.3171701 ,  0.23691882,\n",
       "       -0.2740339 , -0.5886802 , -0.01364311, -0.108477  ,  0.37799352,\n",
       "       -0.14620629, -0.10924347, -0.41868964,  0.6232442 , -0.5268417 ,\n",
       "       -0.15437603, -0.23172513, -0.18453462,  0.24477212,  0.44099486,\n",
       "        0.21036622,  0.4347151 , -0.00225329, -0.16435461, -0.05039244,\n",
       "       -0.00127856,  0.27011403, -0.13912204,  0.31640157, -0.20000963,\n",
       "       -0.07883173,  0.09627511,  0.10979021, -0.4842943 , -0.07143824,\n",
       "        0.09076585, -0.1277493 ,  0.32116503,  0.35946232, -0.13561068,\n",
       "        0.49986872, -0.20506534, -0.23455386,  0.28221303,  0.27280846,\n",
       "        0.07305706, -0.11504436, -0.14980355, -0.00265116, -0.09998899,\n",
       "       -0.33078808, -0.5887326 ,  0.03768002, -0.47693306,  0.37038872,\n",
       "       -0.05569677, -0.05635168, -0.03402088, -0.34371644, -0.16298483,\n",
       "        0.59185123,  0.09085457, -0.20282485, -0.03245172, -0.09468067,\n",
       "       -0.08389033, -0.16366152,  0.28373104, -0.37277925, -0.00303678,\n",
       "        0.20355691,  0.32737264,  0.10940026,  0.21111718,  0.4308905 ,\n",
       "       -0.13412344,  0.36747763,  0.1965509 , -0.32427716, -0.28990957],\n",
       "      dtype=float32)"
      ]
     },
     "execution_count": 15,
     "metadata": {},
     "output_type": "execute_result"
    }
   ],
   "source": [
    "model.get_word_vector('apple')"
   ]
  },
  {
   "cell_type": "code",
   "execution_count": 21,
   "metadata": {},
   "outputs": [
    {
     "name": "stdout",
     "output_type": "stream",
     "text": [
      "[(0.7684687376022339, 'cart'), (0.7427256107330322, 'cars'), (0.7304478287696838, 'cab'), (0.6823735237121582, 'card'), (0.6433296203613281, 'carnival'), (0.6396864652633667, 'walks'), (0.6357393264770508, 'caregiver'), (0.6326708793640137, 'crashes'), (0.6314725875854492, 'train'), (0.6305735111236572, 'carpet')]\n"
     ]
    }
   ],
   "source": [
    "print(model.get_nearest_neighbors('car', k=10))"
   ]
  }
 ],
 "metadata": {
  "kernelspec": {
   "display_name": "pyenv",
   "language": "python",
   "name": "python3"
  },
  "language_info": {
   "codemirror_mode": {
    "name": "ipython",
    "version": 3
   },
   "file_extension": ".py",
   "mimetype": "text/x-python",
   "name": "python",
   "nbconvert_exporter": "python",
   "pygments_lexer": "ipython3",
   "version": "3.10.6"
  },
  "orig_nbformat": 4
 },
 "nbformat": 4,
 "nbformat_minor": 2
}
